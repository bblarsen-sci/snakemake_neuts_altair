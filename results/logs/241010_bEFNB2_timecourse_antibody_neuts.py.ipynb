{
 "cells": [
  {
   "cell_type": "code",
   "execution_count": 1,
   "id": "e3921fba",
   "metadata": {
    "execution": {
     "iopub.execute_input": "2024-11-04T19:26:44.228248Z",
     "iopub.status.busy": "2024-11-04T19:26:44.227599Z",
     "iopub.status.idle": "2024-11-04T19:26:44.291852Z",
     "shell.execute_reply": "2024-11-04T19:26:44.291151Z"
    },
    "tags": [
     "snakemake-job-properties"
    ]
   },
   "outputs": [],
   "source": [
    "######## snakemake preamble start (automatically inserted, do not edit) ########\n",
    "import sys;sys.path.extend(['/home/blarsen/miniforge3/envs/brendan/lib/python3.11/site-packages', '/fh/fast/bloom_j/computational_notebooks/blarsen/2024/snakemake_neuts_altair/workflow/rules', '/fh/fast/bloom_j/computational_notebooks/blarsen/2024/snakemake_neuts_altair/workflow', '/home/blarsen/miniforge3/envs/brendan/bin', '/home/blarsen/miniforge3/envs/brendan/lib/python3.11', '/home/blarsen/miniforge3/envs/brendan/lib/python3.11/lib-dynload', '/home/blarsen/miniforge3/envs/brendan/lib/python3.11/site-packages', '/home/blarsen/.cache/snakemake/snakemake/source-cache/runtime-cache/tmpkvp_2bzz/file/fh/fast/bloom_j/computational_notebooks/blarsen/2024/snakemake_neuts_altair/workflow/rules/../notebooks', '/fh/fast/bloom_j/computational_notebooks/blarsen/2024/snakemake_neuts_altair/workflow/rules/../notebooks']);import pickle;from snakemake import script;script.snakemake = pickle.loads(b'\\x80\\x04\\x95\\xd8\\x07\\x00\\x00\\x00\\x00\\x00\\x00\\x8c\\x10snakemake.script\\x94\\x8c\\tSnakemake\\x94\\x93\\x94)\\x81\\x94}\\x94(\\x8c\\x05input\\x94\\x8c\\x0csnakemake.io\\x94\\x8c\\nInputFiles\\x94\\x93\\x94)\\x81\\x94\\x8c*data/241010_bEFNB2_timecourse_antibody.csv\\x94a}\\x94(\\x8c\\x06_names\\x94}\\x94\\x8c\\x08neutFile\\x94K\\x00N\\x86\\x94s\\x8c\\x12_allowed_overrides\\x94]\\x94(\\x8c\\x05index\\x94\\x8c\\x04sort\\x94eh\\x12h\\x06\\x8c\\x0eAttributeGuard\\x94\\x93\\x94)\\x81\\x94}\\x94\\x8c\\x04name\\x94h\\x12sbh\\x13h\\x15)\\x81\\x94}\\x94h\\x18h\\x13sbh\\x0eh\\nub\\x8c\\x06output\\x94h\\x06\\x8c\\x0bOutputFiles\\x94\\x93\\x94)\\x81\\x94(\\x8c7results/fitparams/241010_bEFNB2_timecourse_antibody.csv\\x94\\x8c4results/images/241010_bEFNB2_timecourse_antibody.png\\x94\\x8c4results/images/241010_bEFNB2_timecourse_antibody.svg\\x94e}\\x94(h\\x0c}\\x94(\\x8c\\tfitParams\\x94K\\x00N\\x86\\x94\\x8c\\rneutcurve_img\\x94K\\x01N\\x86\\x94\\x8c\\rneutcurve_svg\\x94K\\x02N\\x86\\x94uh\\x10]\\x94(h\\x12h\\x13eh\\x12h\\x15)\\x81\\x94}\\x94h\\x18h\\x12sbh\\x13h\\x15)\\x81\\x94}\\x94h\\x18h\\x13sbh$h\\x1fh&h h(h!ub\\x8c\\x06params\\x94h\\x06\\x8c\\x06Params\\x94\\x93\\x94)\\x81\\x94(]\\x94(K2KZKce]\\x94(\\x8c\\x07#4E79A5\\x94\\x8c\\x07#F18F3B\\x94\\x8c\\x07#E0585B\\x94\\x8c\\x07#77B7B2\\x94\\x8c\\x07#5AA155\\x94\\x8c\\x07#EDC958\\x94\\x8c\\x07#AF7AA0\\x94\\x8c\\x07#FE9EA8\\x94\\x8c\\x07#9C7561\\x94\\x8c\\x07#BAB0AC\\x94eK\\xc8M,\\x01\\x8c\\x0cbblarsen-sci\\x94\\x8c\\raltair_themes\\x94\\x8c\\x04main\\x94K\\x02G?\\xf4\\x00\\x00\\x00\\x00\\x00\\x00K\\x0fG?\\xe9\\x99\\x99\\x99\\x99\\x99\\x9ae}\\x94(h\\x0c}\\x94(\\x8c\\x08icvalues\\x94K\\x00N\\x86\\x94\\x8c\\x06colors\\x94K\\x01N\\x86\\x94\\x8c\\x06height\\x94K\\x02N\\x86\\x94\\x8c\\x05width\\x94K\\x03N\\x86\\x94\\x8c\\x0fgithub_username\\x94K\\x04N\\x86\\x94\\x8c\\x0bgithub_repo\\x94K\\x05N\\x86\\x94\\x8c\\rgithub_branch\\x94K\\x06N\\x86\\x94\\x8c\\x11n_faceted_columns\\x94K\\x07N\\x86\\x94\\x8c\\nline_width\\x94K\\x08N\\x86\\x94\\x8c\\x0bcircle_size\\x94K\\tN\\x86\\x94\\x8c\\x11error_bar_opacity\\x94K\\nN\\x86\\x94uh\\x10]\\x94(h\\x12h\\x13eh\\x12h\\x15)\\x81\\x94}\\x94h\\x18h\\x12sbh\\x13h\\x15)\\x81\\x94}\\x94h\\x18h\\x13sbhDh3hFh4hHK\\xc8hJM,\\x01hLh?hNh@hPhAhRK\\x02hTG?\\xf4\\x00\\x00\\x00\\x00\\x00\\x00hVK\\x0fhXG?\\xe9\\x99\\x99\\x99\\x99\\x99\\x9aub\\x8c\\twildcards\\x94h\\x06\\x8c\\tWildcards\\x94\\x93\\x94)\\x81\\x94\\x8c!241010_bEFNB2_timecourse_antibody\\x94a}\\x94(h\\x0c}\\x94\\x8c\\x06sample\\x94K\\x00N\\x86\\x94sh\\x10]\\x94(h\\x12h\\x13eh\\x12h\\x15)\\x81\\x94}\\x94h\\x18h\\x12sbh\\x13h\\x15)\\x81\\x94}\\x94h\\x18h\\x13sb\\x8c\\x06sample\\x94hcub\\x8c\\x07threads\\x94K\\x01\\x8c\\tresources\\x94h\\x06\\x8c\\tResources\\x94\\x93\\x94)\\x81\\x94(K\\x01K\\x01\\x8c\\x04/tmp\\x94e}\\x94(h\\x0c}\\x94(\\x8c\\x06_cores\\x94K\\x00N\\x86\\x94\\x8c\\x06_nodes\\x94K\\x01N\\x86\\x94\\x8c\\x06tmpdir\\x94K\\x02N\\x86\\x94uh\\x10]\\x94(h\\x12h\\x13eh\\x12h\\x15)\\x81\\x94}\\x94h\\x18h\\x12sbh\\x13h\\x15)\\x81\\x94}\\x94h\\x18h\\x13sbhvK\\x01hxK\\x01hzhsub\\x8c\\x03log\\x94h\\x06\\x8c\\x03Log\\x94\\x93\\x94)\\x81\\x94(\\x8c8results/logs/241010_bEFNB2_timecourse_antibody_neuts.txt\\x94\\x8c=results/logs/241010_bEFNB2_timecourse_antibody_neuts.py.ipynb\\x94e}\\x94(h\\x0c}\\x94\\x8c\\x08notebook\\x94K\\x01N\\x86\\x94sh\\x10]\\x94(h\\x12h\\x13eh\\x12h\\x15)\\x81\\x94}\\x94h\\x18h\\x12sbh\\x13h\\x15)\\x81\\x94}\\x94h\\x18h\\x13sbh\\x89h\\x86ub\\x8c\\x06config\\x94}\\x94(\\x8c\\x08icvalues\\x94]\\x94(K2KZKce\\x8c\\x06height\\x94K\\xc8\\x8c\\x05width\\x94M,\\x01\\x8c\\nline_width\\x94G?\\xf4\\x00\\x00\\x00\\x00\\x00\\x00\\x8c\\x0bcircle_size\\x94K\\x0f\\x8c\\x11error_bar_opacity\\x94G?\\xe9\\x99\\x99\\x99\\x99\\x99\\x9a\\x8c\\x06colors\\x94]\\x94(h5h6h7h8h9h:h;h<h=h>e\\x8c\\x0fgithub_username\\x94h?\\x8c\\x0bgithub_repo\\x94h@\\x8c\\rgithub_branch\\x94hA\\x8c\\x11n_faceted_columns\\x94K\\x02u\\x8c\\x04rule\\x94\\x8c\\x05neuts\\x94\\x8c\\x0fbench_iteration\\x94N\\x8c\\tscriptdir\\x94\\x8ch/fh/fast/bloom_j/computational_notebooks/blarsen/2024/snakemake_neuts_altair/workflow/rules/../notebooks\\x94ub.');del script;from snakemake.logging import logger;from snakemake.script import snakemake; logger.printshellcmds = False;import os; os.chdir(r'/fh/fast/bloom_j/computational_notebooks/blarsen/2024/snakemake_neuts_altair');\n",
    "######## snakemake preamble end #########\n"
   ]
  },
  {
   "cell_type": "code",
   "execution_count": 2,
   "metadata": {
    "execution": {
     "iopub.execute_input": "2024-11-04T19:26:44.295127Z",
     "iopub.status.busy": "2024-11-04T19:26:44.294801Z",
     "iopub.status.idle": "2024-11-04T19:26:46.269688Z",
     "shell.execute_reply": "2024-11-04T19:26:46.268825Z"
    }
   },
   "outputs": [],
   "source": [
    "import pandas as pd\n",
    "\n",
    "import neutcurve\n",
    "\n",
    "import altair as alt\n",
    "\n",
    "import re\n",
    "\n",
    "import os\n",
    "\n",
    "import httpimport\n",
    "\n",
    "import logging\n",
    "\n",
    "import time\n",
    "\n",
    "_ = alt.data_transformers.disable_max_rows()"
   ]
  },
  {
   "cell_type": "code",
   "execution_count": 3,
   "metadata": {
    "execution": {
     "iopub.execute_input": "2024-11-04T19:26:46.274422Z",
     "iopub.status.busy": "2024-11-04T19:26:46.273919Z",
     "iopub.status.idle": "2024-11-04T19:26:46.283582Z",
     "shell.execute_reply": "2024-11-04T19:26:46.282692Z"
    }
   },
   "outputs": [
    {
     "name": "stderr",
     "output_type": "stream",
     "text": [
      "2024-11-04 11:26:46,278 - INFO - Starting notebook execution\n"
     ]
    }
   ],
   "source": [
    "notebook_start_time = time.time()\n",
    "\n",
    "logging.basicConfig(\n",
    "    filename=snakemake.log[0],\n",
    "    level=logging.INFO,\n",
    "    format=\"%(asctime)s - %(levelname)s - %(message)s\",\n",
    ")\n",
    "logger = logging.getLogger()\n",
    "\n",
    "console_handler = logging.StreamHandler()\n",
    "console_handler.setFormatter(\n",
    "    logging.Formatter(\"%(asctime)s - %(levelname)s - %(message)s\")\n",
    ")\n",
    "logger.addHandler(console_handler)\n",
    "\n",
    "logger.info(\"Starting notebook execution\")"
   ]
  },
  {
   "cell_type": "code",
   "execution_count": 4,
   "metadata": {
    "execution": {
     "iopub.execute_input": "2024-11-04T19:26:46.342581Z",
     "iopub.status.busy": "2024-11-04T19:26:46.341848Z",
     "iopub.status.idle": "2024-11-04T19:26:46.351906Z",
     "shell.execute_reply": "2024-11-04T19:26:46.350888Z"
    }
   },
   "outputs": [],
   "source": [
    "ICVALUES = snakemake.params.icvalues\n",
    "COLORS_FOR_PLOT = snakemake.params.colors\n",
    "HEIGHT = snakemake.params.height\n",
    "WIDTH = snakemake.params.width\n",
    "N_FACETED_COLUMNS = snakemake.params.n_faceted_columns\n",
    "LINE_WIDTH = snakemake.params.line_width\n",
    "CIRCLE_SIZE = snakemake.params.circle_size\n",
    "ERROR_BAR_OPACITY = snakemake.params.error_bar_opacity\n",
    "\n",
    "github_username = snakemake.params.github_username\n",
    "github_repo = snakemake.params.github_repo\n",
    "github_branch = snakemake.params.github_branch"
   ]
  },
  {
   "cell_type": "code",
   "execution_count": 5,
   "metadata": {
    "execution": {
     "iopub.execute_input": "2024-11-04T19:26:46.355319Z",
     "iopub.status.busy": "2024-11-04T19:26:46.354875Z",
     "iopub.status.idle": "2024-11-04T19:26:46.613333Z",
     "shell.execute_reply": "2024-11-04T19:26:46.611971Z"
    }
   },
   "outputs": [],
   "source": [
    "# Import custom altair theme from github using httpimport module\n",
    "def import_theme(github_username, github_repo, github_branch):\n",
    "    with httpimport.github_repo(github_username, github_repo, github_branch):\n",
    "        import main_theme\n",
    "    alt.themes.register(\"main_theme\", main_theme.main_theme)\n",
    "    alt.themes.enable(\"main_theme\")\n",
    "\n",
    "import_theme(github_username, github_repo, github_branch)"
   ]
  },
  {
   "cell_type": "code",
   "execution_count": 6,
   "metadata": {
    "execution": {
     "iopub.execute_input": "2024-11-04T19:26:46.618021Z",
     "iopub.status.busy": "2024-11-04T19:26:46.617574Z",
     "iopub.status.idle": "2024-11-04T19:26:46.636452Z",
     "shell.execute_reply": "2024-11-04T19:26:46.635355Z"
    }
   },
   "outputs": [],
   "source": [
    "# Read in the neutralization data\n",
    "def load_data(file_path):\n",
    "    df = pd.read_csv(file_path)\n",
    "\n",
    "    REQUIRED_COLUMNS = [\n",
    "        \"serum\",\n",
    "        \"virus\",\n",
    "        \"replicate\",\n",
    "        \"concentration\",\n",
    "        \"fraction infectivity\",\n",
    "    ]\n",
    "    missing_columns = [col for col in REQUIRED_COLUMNS if col not in df.columns]\n",
    "    if missing_columns:\n",
    "        logger.info(f\"Missing required columns: {', '.join(missing_columns)}\\n\")\n",
    "        raise ValueError(f\"Missing required columns: {', '.join(missing_columns)}\")\n",
    "    return df\n",
    "\n",
    "df = load_data(snakemake.input.neutFile)"
   ]
  },
  {
   "cell_type": "code",
   "execution_count": 7,
   "metadata": {
    "execution": {
     "iopub.execute_input": "2024-11-04T19:26:46.639946Z",
     "iopub.status.busy": "2024-11-04T19:26:46.639572Z",
     "iopub.status.idle": "2024-11-04T19:26:46.647856Z",
     "shell.execute_reply": "2024-11-04T19:26:46.646973Z"
    }
   },
   "outputs": [],
   "source": [
    "# Determine which type of neut was run by parsing the name of the input file\n",
    "def process_filename(file_path):\n",
    "    input_file = str(file_path)\n",
    "    filename = os.path.basename(input_file)\n",
    "    filename_lower = filename.lower()\n",
    "\n",
    "    result = {\"type\": None, \"facet\": False}\n",
    "\n",
    "    if \"receptor\" in filename_lower:\n",
    "        result[\"type\"] = \"receptor\"\n",
    "    elif \"sera\" in filename_lower:\n",
    "        result[\"type\"] = \"sera\"\n",
    "    elif \"antibody\" in filename_lower:\n",
    "        result[\"type\"] = \"antibody\"\n",
    "    else:\n",
    "        logger.info(f\"Unknown sample type in filename: {filename}\\n\")\n",
    "        raise ValueError(f\"Unknown sample type in filename: {filename}\")\n",
    "\n",
    "    if \"facet\" in filename_lower:\n",
    "        result[\"facet\"] = True\n",
    "\n",
    "    return result\n",
    "\n",
    "filename_info = process_filename(snakemake.input.neutFile)\n",
    "sample_type = filename_info['type']\n",
    "use_facet = filename_info['facet']"
   ]
  },
  {
   "cell_type": "code",
   "execution_count": 8,
   "metadata": {
    "execution": {
     "iopub.execute_input": "2024-11-04T19:26:46.651779Z",
     "iopub.status.busy": "2024-11-04T19:26:46.651412Z",
     "iopub.status.idle": "2024-11-04T19:26:46.660929Z",
     "shell.execute_reply": "2024-11-04T19:26:46.659856Z"
    }
   },
   "outputs": [
    {
     "name": "stderr",
     "output_type": "stream",
     "text": [
      "2024-11-04 11:26:46,655 - INFO - Number of serum variables: 3\n",
      "\n"
     ]
    },
    {
     "name": "stderr",
     "output_type": "stream",
     "text": [
      "2024-11-04 11:26:46,656 - INFO - Number of virus variables: 1\n",
      "\n"
     ]
    }
   ],
   "source": [
    "# Determine if serum variables or virus variables should be used in the plot\n",
    "def determine_experiment_type(dataframe):\n",
    "    number_serum = len(dataframe[\"serum\"].unique())\n",
    "    number_virus = len(dataframe[\"virus\"].unique())\n",
    "    logger.info(f\"Number of serum variables: {number_serum}\\n\")\n",
    "    logger.info(f\"Number of virus variables: {number_virus}\\n\")\n",
    "    return number_serum > number_virus, number_serum <= number_virus\n",
    "\n",
    "vary_serum_flag, vary_virus_flag = determine_experiment_type(df)"
   ]
  },
  {
   "cell_type": "code",
   "execution_count": 9,
   "metadata": {
    "execution": {
     "iopub.execute_input": "2024-11-04T19:26:46.664883Z",
     "iopub.status.busy": "2024-11-04T19:26:46.664115Z",
     "iopub.status.idle": "2024-11-04T19:26:46.732981Z",
     "shell.execute_reply": "2024-11-04T19:26:46.732166Z"
    }
   },
   "outputs": [],
   "source": [
    "# Estimate neutralization curves using the `curvefits` module from `neutcurve` package.\n",
    "def fit_neutcurve(df):\n",
    "    # estimate fits\n",
    "    return neutcurve.curvefits.CurveFits(\n",
    "        data=df,\n",
    "        serum_col=\"serum\",\n",
    "        virus_col=\"virus\",\n",
    "        replicate_col=\"replicate\",\n",
    "        conc_col=\"concentration\",\n",
    "        fracinf_col=\"fraction infectivity\",\n",
    "    )\n",
    "fit = fit_neutcurve(df)\n",
    "\n",
    "def get_ic_values(fits):\n",
    "    fit_params = fits.fitParams(ics=ICVALUES)\n",
    "    fit_params.to_csv(snakemake.output.fitParams, index=False)\n",
    "\n",
    "get_ic_values(fit)\n",
    "serum_list = list(df[\"serum\"].unique())\n",
    "virus_list = list(df[\"virus\"].unique())\n",
    "\n",
    "def make_neutcurve_df(fits):\n",
    "    curves = []  # initialize an empty list to store neutralization curve data\n",
    "    # Loop over each serum type and retrieve the curve\n",
    "    for serum in serum_list:\n",
    "        for virus in virus_list:\n",
    "            curve = fits.getCurve(serum=serum, virus=virus, replicate=\"average\")\n",
    "            neut_df = curve.dataframe()  # turn into a dataframe\n",
    "            neut_df[\"serum\"] = serum  # assign serum name to a column\n",
    "            neut_df[\"virus\"] = virus  # assign virus name to a column\n",
    "            curves.append(neut_df)\n",
    "\n",
    "    # Concatenate all the dataframes into one\n",
    "    combined_curve = pd.concat(curves, axis=0)\n",
    "    combined_curve[\"upper\"] = combined_curve[\"measurement\"] + combined_curve[\"stderr\"]\n",
    "    combined_curve[\"lower\"] = combined_curve[\"measurement\"] - combined_curve[\"stderr\"]\n",
    "    return combined_curve\n",
    "\n",
    "neutcurve_df = make_neutcurve_df(fit)"
   ]
  },
  {
   "cell_type": "code",
   "execution_count": 10,
   "metadata": {
    "execution": {
     "iopub.execute_input": "2024-11-04T19:26:46.737427Z",
     "iopub.status.busy": "2024-11-04T19:26:46.737057Z",
     "iopub.status.idle": "2024-11-04T19:26:48.190918Z",
     "shell.execute_reply": "2024-11-04T19:26:48.189294Z"
    }
   },
   "outputs": [],
   "source": [
    "def custom_sort_order(array):\n",
    "    # Helper function to extract numerical part from mutation strings.\n",
    "    def extract_number(virus):\n",
    "        num = re.search(r\"\\d+\", virus)\n",
    "        return (\n",
    "            int(num.group()) if num else 0\n",
    "        )  # Convert digits to integer, or 0 if none found.\n",
    "\n",
    "    array = sorted(\n",
    "        array, key=extract_number\n",
    "    )  # Sort array by the numerical value extracted.\n",
    "\n",
    "    # Ensure 'WT' (wild type) is the first element in the list if it exists.\n",
    "    if \"WT\" in array:\n",
    "        array.remove(\"WT\")  # Remove 'WT' from its current position.\n",
    "        array.insert(0, \"WT\")  # Insert 'WT' at the beginning of the list.\n",
    "    return array\n",
    "\n",
    "\n",
    "def custom_sort_key(item):\n",
    "    # Extract the time value from the item string\n",
    "    match = re.search(r\"(\\d+)min\", item)\n",
    "    if match:\n",
    "        return int(match.group(1))\n",
    "    return 0  # Return 0 for items without a time value\n",
    "\n",
    "\n",
    "# Plot the neutralization curves\n",
    "def plot_neut_curve(df):\n",
    "    if sample_type == \"receptor\":\n",
    "        title = \"Concentration (µM)\"\n",
    "        if vary_serum_flag:\n",
    "            legend_title = \"Receptor\"\n",
    "            color_variable = \"serum\"\n",
    "        elif vary_virus_flag:\n",
    "            legend_title = \"Virus\"\n",
    "            color_variable = \"virus\"\n",
    "    elif sample_type == \"sera\":\n",
    "        title = \"Sera Dilution\"\n",
    "        if vary_serum_flag:\n",
    "            legend_title = \"Serum\"\n",
    "            color_variable = \"serum\"\n",
    "        elif vary_virus_flag:\n",
    "            legend_title = \"Virus\"\n",
    "            color_variable = \"virus\"\n",
    "    elif sample_type == \"antibody\":\n",
    "        title = \"Concentration (µg/mL)\"\n",
    "        if vary_serum_flag:\n",
    "            legend_title = \"Antibody\"\n",
    "            color_variable = \"serum\"\n",
    "        elif vary_virus_flag:\n",
    "            legend_title = \"Virus\"\n",
    "            color_variable = \"virus\"\n",
    "    else:\n",
    "        logger.info(f\"Unknown sample type: {sample_type}\\n\")\n",
    "        raise ValueError(\"Unknown sample type\")\n",
    "\n",
    "    axis = alt.Axis(format=\".0e\", tickCount=3)\n",
    "    scale = alt.Scale(type=\"log\")\n",
    "\n",
    "    # Get the unique values of the color variable\n",
    "    unique_values = df[color_variable].unique()\n",
    "\n",
    "    # Sort the unique values using the custom sorting function\n",
    "    sorted_values = sorted(unique_values, key=custom_sort_key)\n",
    "\n",
    "    # If 'WT' is present, set the color scale to include 'WT' as the first color and make it black\n",
    "    if \"WT\" in df[\"virus\"].unique():\n",
    "        print(\"WT is present\")\n",
    "        colors = [\"black\"] + COLORS_FOR_PLOT[: len(df[\"virus\"].unique()) - 1]\n",
    "        color_scale = alt.Color(\n",
    "            color_variable,\n",
    "            title=legend_title,\n",
    "            scale=alt.Scale(\n",
    "                domain=custom_sort_order(df[\"virus\"].unique()), range=colors\n",
    "            ),\n",
    "        )\n",
    "    else:\n",
    "        color_scale = alt.Color(\n",
    "            color_variable,\n",
    "            title=legend_title,\n",
    "            scale=alt.Scale(domain=sorted_values, range=COLORS_FOR_PLOT),\n",
    "            sort=sorted_values,\n",
    "        )\n",
    "\n",
    "    chart = (\n",
    "        alt.Chart(df)\n",
    "        .mark_line(size=LINE_WIDTH)\n",
    "        .encode(\n",
    "            x=alt.X(\n",
    "                \"concentration:Q\",\n",
    "                scale=scale,\n",
    "                axis=axis,\n",
    "                title=title,\n",
    "            ),\n",
    "            y=alt.Y(\n",
    "                \"fit:Q\",\n",
    "                title=\"Fraction Infectivity\",\n",
    "                scale=alt.Scale(domain=[0, 1]),\n",
    "                axis=alt.Axis(values=[0, 0.5, 1]),\n",
    "            ),\n",
    "            color=color_scale,\n",
    "        )\n",
    "    )\n",
    "    circle = (\n",
    "        alt.Chart(df)\n",
    "        .mark_circle(size=CIRCLE_SIZE, opacity=1)\n",
    "        .encode(\n",
    "            x=alt.X(\n",
    "                \"concentration\",\n",
    "                scale=scale,\n",
    "                axis=axis,\n",
    "                title=title,\n",
    "            ),\n",
    "            y=alt.Y(\"measurement:Q\", title=\"Fraction Infectivity\"),\n",
    "            color=color_scale,\n",
    "        )\n",
    "    )\n",
    "    error = (\n",
    "        alt.Chart(df)\n",
    "        .mark_errorbar(opacity=ERROR_BAR_OPACITY)\n",
    "        .encode(\n",
    "            x=\"concentration\",\n",
    "            y=alt.Y(\"lower\", title=\"Fraction Infectivity\"),\n",
    "            y2=\"upper\",\n",
    "            color=color_scale,\n",
    "        )\n",
    "    )\n",
    "    plot = chart + circle + error\n",
    "    plot = plot.properties(width=WIDTH, height=HEIGHT)\n",
    "\n",
    "    if use_facet:\n",
    "        facet_variable = \"serum\" if vary_virus_flag else \"virus\"\n",
    "        plot = plot.facet(\n",
    "            facet=alt.Facet(\n",
    "                f\"{facet_variable}:N\",\n",
    "                header=alt.Header(title=None),\n",
    "            ),\n",
    "            columns=N_FACETED_COLUMNS,\n",
    "        )\n",
    "\n",
    "    return plot\n",
    "\n",
    "\n",
    "neut_curve = plot_neut_curve(neutcurve_df)\n",
    "neut_curve.save(snakemake.output.neutcurve_img, ppi=300)\n",
    "neut_curve.save(snakemake.output.neutcurve_svg)"
   ]
  },
  {
   "cell_type": "code",
   "execution_count": 11,
   "metadata": {
    "execution": {
     "iopub.execute_input": "2024-11-04T19:26:48.196410Z",
     "iopub.status.busy": "2024-11-04T19:26:48.195841Z",
     "iopub.status.idle": "2024-11-04T19:26:48.205400Z",
     "shell.execute_reply": "2024-11-04T19:26:48.204382Z"
    }
   },
   "outputs": [
    {
     "name": "stderr",
     "output_type": "stream",
     "text": [
      "2024-11-04 11:26:48,199 - INFO - Total notebook execution time: 1.92 seconds (0.03 minutes)\n"
     ]
    },
    {
     "name": "stderr",
     "output_type": "stream",
     "text": [
      "2024-11-04 11:26:48,200 - INFO - Notebook execution complete\n"
     ]
    }
   ],
   "source": [
    "execution_time = time.time() - notebook_start_time\n",
    "logger.info(\n",
    "    f\"Total notebook execution time: {execution_time:.2f} seconds ({execution_time/60:.2f} minutes)\"\n",
    ")\n",
    "logger.info(\"Notebook execution complete\")\n"
   ]
  }
 ],
 "metadata": {
  "kernelspec": {
   "display_name": "brendan",
   "language": "python",
   "name": "python3"
  },
  "language_info": {
   "codemirror_mode": {
    "name": "ipython",
    "version": 3
   },
   "file_extension": ".py",
   "mimetype": "text/x-python",
   "name": "python",
   "nbconvert_exporter": "python",
   "pygments_lexer": "ipython3",
   "version": "3.11.10"
  }
 },
 "nbformat": 4,
 "nbformat_minor": 2
}
