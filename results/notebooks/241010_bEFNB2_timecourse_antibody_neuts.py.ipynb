{
 "cells": [
  {
   "cell_type": "code",
   "execution_count": 1,
   "id": "d6e3ab9e",
   "metadata": {
    "execution": {
     "iopub.execute_input": "2024-12-10T18:40:51.427717Z",
     "iopub.status.busy": "2024-12-10T18:40:51.427267Z",
     "iopub.status.idle": "2024-12-10T18:40:51.488420Z",
     "shell.execute_reply": "2024-12-10T18:40:51.487351Z"
    },
    "tags": [
     "snakemake-job-properties"
    ]
   },
   "outputs": [],
   "source": [
    "######## snakemake preamble start (automatically inserted, do not edit) ########\n",
    "import sys;sys.path.extend(['/home/blarsen/miniforge3/envs/brendan/lib/python3.11/site-packages', '/fh/fast/bloom_j/computational_notebooks/blarsen/2025/snakemake_neuts_altair/workflow/rules', '/fh/fast/bloom_j/computational_notebooks/blarsen/2025/snakemake_neuts_altair/workflow', '/home/blarsen/miniforge3/envs/brendan/bin', '/home/blarsen/miniforge3/envs/brendan/lib/python3.11', '/home/blarsen/miniforge3/envs/brendan/lib/python3.11/lib-dynload', '/home/blarsen/miniforge3/envs/brendan/lib/python3.11/site-packages', '/home/blarsen/.cache/snakemake/snakemake/source-cache/runtime-cache/tmplpfcar99/file/fh/fast/bloom_j/computational_notebooks/blarsen/2025/snakemake_neuts_altair/workflow/rules/../notebooks', '/fh/fast/bloom_j/computational_notebooks/blarsen/2025/snakemake_neuts_altair/workflow/rules/../notebooks']);import pickle;from snakemake import script;script.snakemake = pickle.loads(b'\\x80\\x04\\x95\\xdd\\x07\\x00\\x00\\x00\\x00\\x00\\x00\\x8c\\x10snakemake.script\\x94\\x8c\\tSnakemake\\x94\\x93\\x94)\\x81\\x94}\\x94(\\x8c\\x05input\\x94\\x8c\\x0csnakemake.io\\x94\\x8c\\nInputFiles\\x94\\x93\\x94)\\x81\\x94\\x8c*data/241010_bEFNB2_timecourse_antibody.csv\\x94a}\\x94(\\x8c\\x06_names\\x94}\\x94\\x8c\\x08neutFile\\x94K\\x00N\\x86\\x94s\\x8c\\x12_allowed_overrides\\x94]\\x94(\\x8c\\x05index\\x94\\x8c\\x04sort\\x94eh\\x12h\\x06\\x8c\\x0eAttributeGuard\\x94\\x93\\x94)\\x81\\x94}\\x94\\x8c\\x04name\\x94h\\x12sbh\\x13h\\x15)\\x81\\x94}\\x94h\\x18h\\x13sbh\\x0eh\\nub\\x8c\\x06output\\x94h\\x06\\x8c\\x0bOutputFiles\\x94\\x93\\x94)\\x81\\x94(\\x8c7results/fitparams/241010_bEFNB2_timecourse_antibody.csv\\x94\\x8c4results/images/241010_bEFNB2_timecourse_antibody.png\\x94\\x8c4results/images/241010_bEFNB2_timecourse_antibody.svg\\x94e}\\x94(h\\x0c}\\x94(\\x8c\\tfitParams\\x94K\\x00N\\x86\\x94\\x8c\\rneutcurve_img\\x94K\\x01N\\x86\\x94\\x8c\\rneutcurve_svg\\x94K\\x02N\\x86\\x94uh\\x10]\\x94(h\\x12h\\x13eh\\x12h\\x15)\\x81\\x94}\\x94h\\x18h\\x12sbh\\x13h\\x15)\\x81\\x94}\\x94h\\x18h\\x13sbh$h\\x1fh&h h(h!ub\\x8c\\x06params\\x94h\\x06\\x8c\\x06Params\\x94\\x93\\x94)\\x81\\x94(]\\x94(K2KZKce]\\x94(\\x8c\\x07#4E79A5\\x94\\x8c\\x07#F18F3B\\x94\\x8c\\x07#E0585B\\x94\\x8c\\x07#77B7B2\\x94\\x8c\\x07#5AA155\\x94\\x8c\\x07#EDC958\\x94\\x8c\\x07#AF7AA0\\x94\\x8c\\x07#FE9EA8\\x94\\x8c\\x07#9C7561\\x94\\x8c\\x07#BAB0AC\\x94eK\\xc8M,\\x01\\x8c\\x0cbblarsen-sci\\x94\\x8c\\raltair_themes\\x94\\x8c\\x04main\\x94K\\x02G?\\xf4\\x00\\x00\\x00\\x00\\x00\\x00K\\x19G?\\xf0\\x00\\x00\\x00\\x00\\x00\\x00e}\\x94(h\\x0c}\\x94(\\x8c\\x08icvalues\\x94K\\x00N\\x86\\x94\\x8c\\x06colors\\x94K\\x01N\\x86\\x94\\x8c\\x06height\\x94K\\x02N\\x86\\x94\\x8c\\x05width\\x94K\\x03N\\x86\\x94\\x8c\\x0fgithub_username\\x94K\\x04N\\x86\\x94\\x8c\\x0bgithub_repo\\x94K\\x05N\\x86\\x94\\x8c\\rgithub_branch\\x94K\\x06N\\x86\\x94\\x8c\\x11n_faceted_columns\\x94K\\x07N\\x86\\x94\\x8c\\nline_width\\x94K\\x08N\\x86\\x94\\x8c\\x0bcircle_size\\x94K\\tN\\x86\\x94\\x8c\\x11error_bar_opacity\\x94K\\nN\\x86\\x94uh\\x10]\\x94(h\\x12h\\x13eh\\x12h\\x15)\\x81\\x94}\\x94h\\x18h\\x12sbh\\x13h\\x15)\\x81\\x94}\\x94h\\x18h\\x13sbhDh3hFh4hHK\\xc8hJM,\\x01hLh?hNh@hPhAhRK\\x02hTG?\\xf4\\x00\\x00\\x00\\x00\\x00\\x00hVK\\x19hXG?\\xf0\\x00\\x00\\x00\\x00\\x00\\x00ub\\x8c\\twildcards\\x94h\\x06\\x8c\\tWildcards\\x94\\x93\\x94)\\x81\\x94\\x8c!241010_bEFNB2_timecourse_antibody\\x94a}\\x94(h\\x0c}\\x94\\x8c\\x06sample\\x94K\\x00N\\x86\\x94sh\\x10]\\x94(h\\x12h\\x13eh\\x12h\\x15)\\x81\\x94}\\x94h\\x18h\\x12sbh\\x13h\\x15)\\x81\\x94}\\x94h\\x18h\\x13sb\\x8c\\x06sample\\x94hcub\\x8c\\x07threads\\x94K\\x01\\x8c\\tresources\\x94h\\x06\\x8c\\tResources\\x94\\x93\\x94)\\x81\\x94(K\\x01K\\x01\\x8c\\x04/tmp\\x94e}\\x94(h\\x0c}\\x94(\\x8c\\x06_cores\\x94K\\x00N\\x86\\x94\\x8c\\x06_nodes\\x94K\\x01N\\x86\\x94\\x8c\\x06tmpdir\\x94K\\x02N\\x86\\x94uh\\x10]\\x94(h\\x12h\\x13eh\\x12h\\x15)\\x81\\x94}\\x94h\\x18h\\x12sbh\\x13h\\x15)\\x81\\x94}\\x94h\\x18h\\x13sbhvK\\x01hxK\\x01hzhsub\\x8c\\x03log\\x94h\\x06\\x8c\\x03Log\\x94\\x93\\x94)\\x81\\x94(\\x8c8results/logs/241010_bEFNB2_timecourse_antibody_neuts.txt\\x94\\x8cBresults/notebooks/241010_bEFNB2_timecourse_antibody_neuts.py.ipynb\\x94e}\\x94(h\\x0c}\\x94\\x8c\\x08notebook\\x94K\\x01N\\x86\\x94sh\\x10]\\x94(h\\x12h\\x13eh\\x12h\\x15)\\x81\\x94}\\x94h\\x18h\\x12sbh\\x13h\\x15)\\x81\\x94}\\x94h\\x18h\\x13sbh\\x89h\\x86ub\\x8c\\x06config\\x94}\\x94(\\x8c\\x08icvalues\\x94]\\x94(K2KZKce\\x8c\\x06height\\x94K\\xc8\\x8c\\x05width\\x94M,\\x01\\x8c\\nline_width\\x94G?\\xf4\\x00\\x00\\x00\\x00\\x00\\x00\\x8c\\x0bcircle_size\\x94K\\x19\\x8c\\x11error_bar_opacity\\x94G?\\xf0\\x00\\x00\\x00\\x00\\x00\\x00\\x8c\\x06colors\\x94]\\x94(h5h6h7h8h9h:h;h<h=h>e\\x8c\\x0fgithub_username\\x94h?\\x8c\\x0bgithub_repo\\x94h@\\x8c\\rgithub_branch\\x94hA\\x8c\\x11n_faceted_columns\\x94K\\x02u\\x8c\\x04rule\\x94\\x8c\\x05neuts\\x94\\x8c\\x0fbench_iteration\\x94N\\x8c\\tscriptdir\\x94\\x8ch/fh/fast/bloom_j/computational_notebooks/blarsen/2025/snakemake_neuts_altair/workflow/rules/../notebooks\\x94ub.');del script;from snakemake.logging import logger;from snakemake.script import snakemake; logger.printshellcmds = False;import os; os.chdir(r'/fh/fast/bloom_j/computational_notebooks/blarsen/2025/snakemake_neuts_altair');\n",
    "######## snakemake preamble end #########\n"
   ]
  },
  {
   "cell_type": "code",
   "execution_count": 2,
   "metadata": {
    "execution": {
     "iopub.execute_input": "2024-12-10T18:40:51.493680Z",
     "iopub.status.busy": "2024-12-10T18:40:51.493208Z",
     "iopub.status.idle": "2024-12-10T18:40:53.847241Z",
     "shell.execute_reply": "2024-12-10T18:40:53.845959Z"
    }
   },
   "outputs": [],
   "source": [
    "import pandas as pd\n",
    "\n",
    "import neutcurve\n",
    "\n",
    "import altair as alt\n",
    "\n",
    "import re\n",
    "\n",
    "import os\n",
    "\n",
    "import httpimport\n",
    "\n",
    "import logging\n",
    "\n",
    "import time\n",
    "\n",
    "_ = alt.data_transformers.disable_max_rows()"
   ]
  },
  {
   "cell_type": "markdown",
   "metadata": {},
   "source": [
    "### Setup logging"
   ]
  },
  {
   "cell_type": "code",
   "execution_count": 3,
   "metadata": {
    "execution": {
     "iopub.execute_input": "2024-12-10T18:40:53.852167Z",
     "iopub.status.busy": "2024-12-10T18:40:53.851561Z",
     "iopub.status.idle": "2024-12-10T18:40:53.863765Z",
     "shell.execute_reply": "2024-12-10T18:40:53.862329Z"
    }
   },
   "outputs": [
    {
     "name": "stderr",
     "output_type": "stream",
     "text": [
      "2024-12-10 10:40:53,857 - INFO - Starting notebook execution\n"
     ]
    }
   ],
   "source": [
    "notebook_start_time = time.time()\n",
    "\n",
    "logging.basicConfig(\n",
    "    filename=snakemake.log[0],\n",
    "    level=logging.INFO,\n",
    "    format=\"%(asctime)s - %(levelname)s - %(message)s\",\n",
    ")\n",
    "logger = logging.getLogger()\n",
    "\n",
    "console_handler = logging.StreamHandler()\n",
    "console_handler.setFormatter(\n",
    "    logging.Formatter(\"%(asctime)s - %(levelname)s - %(message)s\")\n",
    ")\n",
    "logger.addHandler(console_handler)\n",
    "\n",
    "logger.info(\"Starting notebook execution\")"
   ]
  },
  {
   "cell_type": "markdown",
   "metadata": {},
   "source": [
    "### Define parameters"
   ]
  },
  {
   "cell_type": "code",
   "execution_count": 4,
   "metadata": {
    "execution": {
     "iopub.execute_input": "2024-12-10T18:40:53.913771Z",
     "iopub.status.busy": "2024-12-10T18:40:53.912978Z",
     "iopub.status.idle": "2024-12-10T18:40:53.922903Z",
     "shell.execute_reply": "2024-12-10T18:40:53.921805Z"
    }
   },
   "outputs": [],
   "source": [
    "ICVALUES = snakemake.params.icvalues\n",
    "COLORS_FOR_PLOT = snakemake.params.colors\n",
    "HEIGHT = snakemake.params.height\n",
    "WIDTH = snakemake.params.width\n",
    "N_FACETED_COLUMNS = snakemake.params.n_faceted_columns\n",
    "LINE_WIDTH = snakemake.params.line_width\n",
    "CIRCLE_SIZE = snakemake.params.circle_size\n",
    "ERROR_BAR_OPACITY = snakemake.params.error_bar_opacity\n",
    "\n",
    "github_username = snakemake.params.github_username\n",
    "github_repo = snakemake.params.github_repo\n",
    "github_branch = snakemake.params.github_branch"
   ]
  },
  {
   "cell_type": "markdown",
   "metadata": {},
   "source": [
    "### Import altair theme"
   ]
  },
  {
   "cell_type": "code",
   "execution_count": 5,
   "metadata": {
    "execution": {
     "iopub.execute_input": "2024-12-10T18:40:53.925593Z",
     "iopub.status.busy": "2024-12-10T18:40:53.925158Z",
     "iopub.status.idle": "2024-12-10T18:40:54.168474Z",
     "shell.execute_reply": "2024-12-10T18:40:54.167196Z"
    }
   },
   "outputs": [],
   "source": [
    "# Import custom altair theme from github using httpimport module\n",
    "def import_theme(github_username, github_repo, github_branch):\n",
    "    with httpimport.github_repo(github_username, github_repo, github_branch):\n",
    "        import main_theme\n",
    "    alt.themes.register(\"main_theme\", main_theme.main_theme)\n",
    "    alt.themes.enable(\"main_theme\")\n",
    "\n",
    "import_theme(github_username, github_repo, github_branch)"
   ]
  },
  {
   "cell_type": "markdown",
   "metadata": {},
   "source": [
    "### Load data"
   ]
  },
  {
   "cell_type": "code",
   "execution_count": 6,
   "metadata": {
    "execution": {
     "iopub.execute_input": "2024-12-10T18:40:54.172077Z",
     "iopub.status.busy": "2024-12-10T18:40:54.171589Z",
     "iopub.status.idle": "2024-12-10T18:40:54.193035Z",
     "shell.execute_reply": "2024-12-10T18:40:54.191845Z"
    }
   },
   "outputs": [],
   "source": [
    "# Read in the neutralization data\n",
    "def load_data(file_path):\n",
    "    df = pd.read_csv(file_path)\n",
    "\n",
    "    REQUIRED_COLUMNS = [\n",
    "        \"serum\",\n",
    "        \"virus\",\n",
    "        \"replicate\",\n",
    "        \"concentration\",\n",
    "        \"fraction infectivity\",\n",
    "    ]\n",
    "    \n",
    "    missing_columns = [col for col in REQUIRED_COLUMNS if col not in df.columns]\n",
    "    if missing_columns:\n",
    "        logger.info(f\"Missing required columns: {', '.join(missing_columns)}\\n\")\n",
    "        raise ValueError(f\"Missing required columns: {', '.join(missing_columns)}\")\n",
    "    return df\n",
    "\n",
    "df = load_data(snakemake.input.neutFile)"
   ]
  },
  {
   "cell_type": "markdown",
   "metadata": {},
   "source": [
    "### Process filename"
   ]
  },
  {
   "cell_type": "code",
   "execution_count": 7,
   "metadata": {
    "execution": {
     "iopub.execute_input": "2024-12-10T18:40:54.196682Z",
     "iopub.status.busy": "2024-12-10T18:40:54.196173Z",
     "iopub.status.idle": "2024-12-10T18:40:54.206999Z",
     "shell.execute_reply": "2024-12-10T18:40:54.205446Z"
    }
   },
   "outputs": [],
   "source": [
    "# Determine which type of neut was run by parsing the name of the input file\n",
    "def process_filename(file_path):\n",
    "    input_file = str(file_path)\n",
    "    filename = os.path.basename(input_file)\n",
    "    filename_lower = filename.lower()\n",
    "\n",
    "    result = {\"type\": None, \"facet\": False}\n",
    "\n",
    "    if \"receptor\" in filename_lower:\n",
    "        result[\"type\"] = \"receptor\"\n",
    "    elif \"sera\" in filename_lower:\n",
    "        result[\"type\"] = \"sera\"\n",
    "    elif \"antibody\" in filename_lower:\n",
    "        result[\"type\"] = \"antibody\"\n",
    "    else:\n",
    "        logger.info(f\"Unknown sample type in filename: {filename}\\n\")\n",
    "        raise ValueError(f\"Unknown sample type in filename: {filename}\")\n",
    "\n",
    "    if \"facet\" in filename_lower:\n",
    "        result[\"facet\"] = True\n",
    "\n",
    "    return result\n",
    "\n",
    "filename_info = process_filename(snakemake.input.neutFile)\n",
    "sample_type = filename_info['type']\n",
    "use_facet = filename_info['facet']"
   ]
  },
  {
   "cell_type": "markdown",
   "metadata": {},
   "source": [
    "### Determine whether serum or virus variables should be used in legend of plot"
   ]
  },
  {
   "cell_type": "code",
   "execution_count": 8,
   "metadata": {
    "execution": {
     "iopub.execute_input": "2024-12-10T18:40:54.211319Z",
     "iopub.status.busy": "2024-12-10T18:40:54.210580Z",
     "iopub.status.idle": "2024-12-10T18:40:54.222178Z",
     "shell.execute_reply": "2024-12-10T18:40:54.221165Z"
    }
   },
   "outputs": [
    {
     "name": "stderr",
     "output_type": "stream",
     "text": [
      "2024-12-10 10:40:54,216 - INFO - Number of serum variables: 3\n",
      "\n"
     ]
    },
    {
     "name": "stderr",
     "output_type": "stream",
     "text": [
      "2024-12-10 10:40:54,218 - INFO - Number of virus variables: 1\n",
      "\n"
     ]
    }
   ],
   "source": [
    "def determine_experiment_type(dataframe):\n",
    "    number_serum = len(dataframe[\"serum\"].unique())\n",
    "    number_virus = len(dataframe[\"virus\"].unique())\n",
    "    logger.info(f\"Number of serum variables: {number_serum}\\n\")\n",
    "    logger.info(f\"Number of virus variables: {number_virus}\\n\")\n",
    "    return number_serum > number_virus, number_serum <= number_virus\n",
    "\n",
    "vary_serum_flag, vary_virus_flag = determine_experiment_type(df)"
   ]
  },
  {
   "cell_type": "markdown",
   "metadata": {},
   "source": [
    "### Estimate neutralization curves using the `curvefits` module from `neutcurve` package."
   ]
  },
  {
   "cell_type": "code",
   "execution_count": 9,
   "metadata": {
    "execution": {
     "iopub.execute_input": "2024-12-10T18:40:54.225578Z",
     "iopub.status.busy": "2024-12-10T18:40:54.225108Z",
     "iopub.status.idle": "2024-12-10T18:40:54.311126Z",
     "shell.execute_reply": "2024-12-10T18:40:54.309906Z"
    }
   },
   "outputs": [],
   "source": [
    "def fit_neutcurve(df):\n",
    "    return neutcurve.curvefits.CurveFits(\n",
    "        data=df,\n",
    "        serum_col=\"serum\",\n",
    "        virus_col=\"virus\",\n",
    "        replicate_col=\"replicate\",\n",
    "        conc_col=\"concentration\",\n",
    "        fracinf_col=\"fraction infectivity\",\n",
    "    )\n",
    "fit = fit_neutcurve(df)\n",
    "\n",
    "def get_ic_values(fits):\n",
    "    fit_params = fits.fitParams(ics=ICVALUES)\n",
    "    fit_params.to_csv(snakemake.output.fitParams, index=False)\n",
    "get_ic_values(fit)\n",
    "\n",
    "serum_list = list(df[\"serum\"].unique())\n",
    "virus_list = list(df[\"virus\"].unique())\n",
    "\n",
    "def make_neutcurve_df(fit):\n",
    "    curves = []  # initialize an empty list to store neutralization curve data\n",
    "    # Loop over each serum type and retrieve the curve\n",
    "    for serum in serum_list:\n",
    "        for virus in virus_list:\n",
    "            curve = fit.getCurve(serum=serum, virus=virus, replicate=\"average\")\n",
    "            neut_df = curve.dataframe()  # turn into a dataframe\n",
    "            neut_df[\"serum\"] = serum  # assign serum name to a column\n",
    "            neut_df[\"virus\"] = virus  # assign virus name to a column\n",
    "            curves.append(neut_df)\n",
    "\n",
    "    # Concatenate all the dataframes into one\n",
    "    combined_curve = pd.concat(curves, axis=0)\n",
    "    combined_curve[\"upper\"] = combined_curve[\"measurement\"] + combined_curve[\"stderr\"]\n",
    "    combined_curve[\"lower\"] = combined_curve[\"measurement\"] - combined_curve[\"stderr\"]\n",
    "    return combined_curve\n",
    "\n",
    "neutcurve_df = make_neutcurve_df(fit)"
   ]
  },
  {
   "cell_type": "markdown",
   "metadata": {},
   "source": [
    "### Helper plot functions"
   ]
  },
  {
   "cell_type": "code",
   "execution_count": 10,
   "metadata": {
    "execution": {
     "iopub.execute_input": "2024-12-10T18:40:54.315093Z",
     "iopub.status.busy": "2024-12-10T18:40:54.314455Z",
     "iopub.status.idle": "2024-12-10T18:40:54.325515Z",
     "shell.execute_reply": "2024-12-10T18:40:54.324657Z"
    }
   },
   "outputs": [],
   "source": [
    "def custom_sort_order(array):\n",
    "    # Helper function to extract numerical part from mutation strings.\n",
    "    def extract_number(virus):\n",
    "        num = re.search(r\"\\d+\", virus)\n",
    "        return (\n",
    "            int(num.group()) if num else 0\n",
    "        )  # Convert digits to integer, or 0 if none found.\n",
    "\n",
    "    array = sorted(\n",
    "        array, key=extract_number\n",
    "    )  # Sort array by the numerical value extracted.\n",
    "\n",
    "    # Ensure 'WT' (wild type) is the first element in the list if it exists.\n",
    "    if \"WT\" in array:\n",
    "        array.remove(\"WT\")  # Remove 'WT' from its current position.\n",
    "        array.insert(0, \"WT\")  # Insert 'WT' at the beginning of the list.\n",
    "    return array\n",
    "\n",
    "\n",
    "def custom_sort_key(item):\n",
    "    # Extract the time value from the item string\n",
    "    match = re.search(r\"(\\d+)min\", item)\n",
    "    if match:\n",
    "        return int(match.group(1))\n",
    "    return 0  # Return 0 for items without a time value\n"
   ]
  },
  {
   "cell_type": "markdown",
   "metadata": {},
   "source": [
    "### Plot the neutralization curves"
   ]
  },
  {
   "cell_type": "code",
   "execution_count": 11,
   "metadata": {
    "execution": {
     "iopub.execute_input": "2024-12-10T18:40:54.329101Z",
     "iopub.status.busy": "2024-12-10T18:40:54.328707Z",
     "iopub.status.idle": "2024-12-10T18:40:55.482751Z",
     "shell.execute_reply": "2024-12-10T18:40:55.481739Z"
    }
   },
   "outputs": [],
   "source": [
    "def plot_neut_curve(df):\n",
    "    if sample_type == \"receptor\":\n",
    "        title = \"Concentration (µM)\"\n",
    "        if vary_serum_flag:\n",
    "            legend_title = \"Receptor\"\n",
    "            color_variable = \"serum\"\n",
    "        elif vary_virus_flag:\n",
    "            legend_title = \"Virus\"\n",
    "            color_variable = \"virus\"\n",
    "    elif sample_type == \"sera\":\n",
    "        title = \"Sera Dilution\"\n",
    "        if vary_serum_flag:\n",
    "            legend_title = \"Serum\"\n",
    "            color_variable = \"serum\"\n",
    "        elif vary_virus_flag:\n",
    "            legend_title = \"Virus\"\n",
    "            color_variable = \"virus\"\n",
    "    elif sample_type == \"antibody\":\n",
    "        title = \"Concentration (µg/mL)\"\n",
    "        if vary_serum_flag:\n",
    "            legend_title = \"Antibody\"\n",
    "            color_variable = \"serum\"\n",
    "        elif vary_virus_flag:\n",
    "            legend_title = \"Virus\"\n",
    "            color_variable = \"virus\"\n",
    "    else:\n",
    "        logger.info(f\"Unknown sample type: {sample_type}\\n\")\n",
    "        raise ValueError(\"Unknown sample type\")\n",
    "\n",
    "    # Define the axis and scale for the plot\n",
    "    x_axis = alt.Axis(format=\".0e\", tickCount=4)\n",
    "    scale = alt.Scale(type=\"log\")\n",
    "\n",
    "    ### Define color scale\n",
    "    # If 'WT' is present, set the color scale to include 'WT' as the first color and make it black\n",
    "    if \"WT\" in df[\"virus\"].unique():\n",
    "        print(\"WT is present\")\n",
    "        colors = [\"black\"] + COLORS_FOR_PLOT[: len(df[\"virus\"].unique()) - 1]\n",
    "        \n",
    "        color_scale = alt.Color(\n",
    "            color_variable,\n",
    "            scale=alt.Scale(\n",
    "                domain=custom_sort_order(df[\"virus\"].unique()), range=colors\n",
    "            ),\n",
    "            legend=alt.Legend(\n",
    "                title=legend_title\n",
    "            ),\n",
    "        )\n",
    "    else:\n",
    "    # If 'WT' is not present, set the color scale to include all colors\n",
    "        # Get the unique values of the color variable\n",
    "        unique_values = df[color_variable].unique()\n",
    "        # Sort the unique values using the custom sorting function\n",
    "        sorted_values = sorted(unique_values, key=custom_sort_key)\n",
    "        \n",
    "        color_scale = alt.Color(\n",
    "            color_variable,\n",
    "            scale=alt.Scale(domain=sorted_values, range=COLORS_FOR_PLOT),\n",
    "            sort=sorted_values,\n",
    "            legend=alt.Legend(\n",
    "                title=legend_title\n",
    "            ),\n",
    "        )\n",
    "\n",
    "    # make the line component of the plot which represents the inferred fraction infectivity\n",
    "    line = (\n",
    "        alt.Chart(df)\n",
    "        .mark_line(size=LINE_WIDTH)\n",
    "        .encode(\n",
    "            x=(alt.X(\"concentration:Q\").scale(scale).axis(x_axis).title(title)),\n",
    "            y=(\n",
    "                alt.Y(\"fit:Q\")\n",
    "                .title(\"Fraction Infectivity\")\n",
    "                .scale(alt.Scale(domain=[0, 1]))\n",
    "                .axis(alt.Axis(values=[0, 0.5, 1]))\n",
    "            ),\n",
    "            color=color_scale,\n",
    "        )\n",
    "    )\n",
    "\n",
    "    # make the circle component of the plot which represent the measured fraction infectivity\n",
    "    circle = (\n",
    "        alt.Chart(df)\n",
    "        .mark_circle(size=CIRCLE_SIZE, opacity=1)\n",
    "        .encode(\n",
    "            x=(alt.X(\"concentration\").scale(scale).axis(x_axis).title(title)),\n",
    "            y=(alt.Y(\"measurement:Q\").title(\"Fraction Infectivity\")),\n",
    "            color=color_scale,\n",
    "        )\n",
    "    )\n",
    "\n",
    "    # make the error bar component of the plot which represents the error in the measured fraction infectivity\n",
    "    error = (\n",
    "        alt.Chart(df)\n",
    "        .mark_errorbar(opacity=ERROR_BAR_OPACITY)\n",
    "        .encode(\n",
    "            x=\"concentration\",\n",
    "            y=alt.Y(\"lower\").title(\"Fraction Infectivity\"),\n",
    "            y2=\"upper\",\n",
    "            color=color_scale,\n",
    "        )\n",
    "    )\n",
    "\n",
    "    # combine the line, circle, and error components into one plot and set dimensions\n",
    "    plot = error + line + circle\n",
    "    plot = plot.properties(width=WIDTH, height=HEIGHT)\n",
    "\n",
    "    # if facet is specified in input filename, then facet plot\n",
    "    if use_facet:\n",
    "        facet_variable = \"serum\" if vary_virus_flag else \"virus\"\n",
    "        plot = plot.facet(\n",
    "            facet=alt.Facet(\n",
    "                f\"{facet_variable}:N\",\n",
    "                header=alt.Header(title=None),\n",
    "            ),\n",
    "            columns=N_FACETED_COLUMNS,\n",
    "        )\n",
    "\n",
    "    return plot\n",
    "\n",
    "\n",
    "neut_curve = plot_neut_curve(neutcurve_df)\n",
    "neut_curve.save(snakemake.output.neutcurve_img, ppi=300)\n",
    "neut_curve.save(snakemake.output.neutcurve_svg)"
   ]
  },
  {
   "cell_type": "code",
   "execution_count": 12,
   "metadata": {
    "execution": {
     "iopub.execute_input": "2024-12-10T18:40:55.486004Z",
     "iopub.status.busy": "2024-12-10T18:40:55.485586Z",
     "iopub.status.idle": "2024-12-10T18:40:55.492130Z",
     "shell.execute_reply": "2024-12-10T18:40:55.491346Z"
    }
   },
   "outputs": [
    {
     "name": "stderr",
     "output_type": "stream",
     "text": [
      "2024-12-10 10:40:55,487 - INFO - Total notebook execution time: 1.63 seconds (0.03 minutes)\n"
     ]
    },
    {
     "name": "stderr",
     "output_type": "stream",
     "text": [
      "2024-12-10 10:40:55,489 - INFO - Notebook execution complete\n"
     ]
    }
   ],
   "source": [
    "execution_time = time.time() - notebook_start_time\n",
    "logger.info(\n",
    "    f\"Total notebook execution time: {execution_time:.2f} seconds ({execution_time/60:.2f} minutes)\"\n",
    ")\n",
    "logger.info(\"Notebook execution complete\")\n"
   ]
  }
 ],
 "metadata": {
  "kernelspec": {
   "display_name": "brendan",
   "language": "python",
   "name": "python3"
  },
  "language_info": {
   "codemirror_mode": {
    "name": "ipython",
    "version": 3
   },
   "file_extension": ".py",
   "mimetype": "text/x-python",
   "name": "python",
   "nbconvert_exporter": "python",
   "pygments_lexer": "ipython3",
   "version": "3.11.11"
  }
 },
 "nbformat": 4,
 "nbformat_minor": 2
}
